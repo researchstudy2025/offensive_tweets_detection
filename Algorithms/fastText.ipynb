{
 "cells": [
  {
   "cell_type": "code",
   "execution_count": null,
   "metadata": {},
   "outputs": [],
   "source": [
    "!pip install fasttext-wheel"
   ]
  },
  {
   "cell_type": "code",
   "execution_count": null,
   "metadata": {
    "colab": {
     "base_uri": "https://localhost:8080/"
    },
    "executionInfo": {
     "elapsed": 41503,
     "status": "ok",
     "timestamp": 1717465437470,
     "user": {
      "displayName": "Thiago Nacrur Maricondi",
      "userId": "03056865606650444241"
     },
     "user_tz": 180
    },
    "id": "F7S7nYAdN8CA",
    "outputId": "4559d04b-3234-4c5b-9178-290fb87f8df3"
   },
   "outputs": [],
   "source": [
    "!git clone https://github.com/facebookresearch/fastText.git\n",
    "%cd fastText\n",
    "!pip install ."
   ]
  },
  {
   "cell_type": "code",
   "execution_count": 5,
   "metadata": {
    "id": "w3gMznK9M3cs"
   },
   "outputs": [],
   "source": [
    "import numpy as np, pandas as pd\n",
    "import fasttext\n",
    "from sklearn.model_selection import StratifiedKFold\n",
    "from sklearn.metrics import confusion_matrix\n",
    "import os\n",
    "import string\n",
    "import nltk\n",
    "from nltk.tokenize import TweetTokenizer\n",
    "from sklearn.metrics import precision_score, recall_score, accuracy_score, f1_score\n",
    "import re\n",
    "from collections import defaultdict\n",
    "from nltk.stem import WordNetLemmatizer"
   ]
  },
  {
   "cell_type": "code",
   "execution_count": 6,
   "metadata": {},
   "outputs": [],
   "source": [
    "dataset_path = os.path.join(os.environ[\"USERPROFILE\"], \"Downloads\", \"dataset.txt\")"
   ]
  },
  {
   "cell_type": "code",
   "execution_count": 7,
   "metadata": {},
   "outputs": [],
   "source": [
    "with open(dataset_path, 'r') as file:\n",
    "    data = file.readlines()"
   ]
  },
  {
   "cell_type": "code",
   "execution_count": null,
   "metadata": {
    "colab": {
     "base_uri": "https://localhost:8080/"
    },
    "executionInfo": {
     "elapsed": 4,
     "status": "ok",
     "timestamp": 1717465439735,
     "user": {
      "displayName": "Thiago Nacrur Maricondi",
      "userId": "03056865606650444241"
     },
     "user_tz": 180
    },
    "id": "PKapkbZqjoVM",
    "outputId": "677aca45-9a70-43eb-f3a9-0068206c0459"
   },
   "outputs": [],
   "source": [
    "nltk.download('wordnet')"
   ]
  },
  {
   "cell_type": "code",
   "execution_count": null,
   "metadata": {
    "colab": {
     "base_uri": "https://localhost:8080/"
    },
    "executionInfo": {
     "elapsed": 678,
     "status": "ok",
     "timestamp": 1717465440411,
     "user": {
      "displayName": "Thiago Nacrur Maricondi",
      "userId": "03056865606650444241"
     },
     "user_tz": 180
    },
    "id": "rQGTV6rmZcRR",
    "outputId": "8ac4fd3e-6d0f-4347-e20d-13604f987249"
   },
   "outputs": [],
   "source": [
    "print(data)"
   ]
  },
  {
   "cell_type": "code",
   "execution_count": 10,
   "metadata": {
    "id": "uZmyYXDRxM_e"
   },
   "outputs": [],
   "source": [
    "labels = []\n",
    "texts = []\n",
    "precisions = []\n",
    "p = []\n",
    "r = []\n",
    "recalls = []\n",
    "predicted_labels = []\n",
    "real_labels = []\n",
    "tokenizer = TweetTokenizer()\n",
    "precision_dict = defaultdict(list)\n",
    "recall_dict = defaultdict(list)\n",
    "lemmatizer = WordNetLemmatizer()"
   ]
  },
  {
   "cell_type": "code",
   "execution_count": 12,
   "metadata": {
    "id": "K4tWfuKCvJJy"
   },
   "outputs": [],
   "source": [
    "def preprocess_text(text):\n",
    "    tokens = tokenizer.tokenize(text.lower())\n",
    "    tokens = [lemmatizer.lemmatize(token) for token in tokens]\n",
    "    processed_text = \" \".join(tokens)\n",
    "    processed_text = \" \".join(processed_text.split())\n",
    "\n",
    "    return processed_text\n"
   ]
  },
  {
   "cell_type": "code",
   "execution_count": 13,
   "metadata": {
    "id": "VT9pKzUa3xGP"
   },
   "outputs": [],
   "source": [
    "np.random.seed(42)\n",
    "np.random.shuffle(data)"
   ]
  },
  {
   "cell_type": "code",
   "execution_count": 14,
   "metadata": {
    "id": "5DfQoDlM32Jb"
   },
   "outputs": [],
   "source": [
    "train_data = data[:18001]"
   ]
  },
  {
   "cell_type": "code",
   "execution_count": 15,
   "metadata": {
    "id": "8bBc2yWL3-1a"
   },
   "outputs": [],
   "source": [
    "test_data = data[18001:]"
   ]
  },
  {
   "cell_type": "code",
   "execution_count": 16,
   "metadata": {
    "id": "WHvhn5-h4NDn"
   },
   "outputs": [],
   "source": [
    "with open('cyber.train', 'w') as file:\n",
    "    file.writelines(train_data)\n",
    "\n",
    "with open('cyber.test', 'w') as file:\n",
    "    file.writelines(test_data)"
   ]
  },
  {
   "cell_type": "code",
   "execution_count": 17,
   "metadata": {
    "colab": {
     "base_uri": "https://localhost:8080/"
    },
    "executionInfo": {
     "elapsed": 27,
     "status": "ok",
     "timestamp": 1717465440412,
     "user": {
      "displayName": "Thiago Nacrur Maricondi",
      "userId": "03056865606650444241"
     },
     "user_tz": 180
    },
    "id": "RS3lwi5r6PgI",
    "outputId": "f1712c71-2fa5-4185-c627-e4b06ffcbfc7"
   },
   "outputs": [
    {
     "data": {
      "text/plain": [
       "(18001,)"
      ]
     },
     "execution_count": 17,
     "metadata": {},
     "output_type": "execute_result"
    }
   ],
   "source": [
    "np.shape(train_data)"
   ]
  },
  {
   "cell_type": "code",
   "execution_count": 18,
   "metadata": {
    "colab": {
     "base_uri": "https://localhost:8080/"
    },
    "executionInfo": {
     "elapsed": 3,
     "status": "ok",
     "timestamp": 1717465440412,
     "user": {
      "displayName": "Thiago Nacrur Maricondi",
      "userId": "03056865606650444241"
     },
     "user_tz": 180
    },
    "id": "eKDouv1d4gJ2",
    "outputId": "b87ede09-a765-4d9a-fb62-6271b4794f2e"
   },
   "outputs": [
    {
     "data": {
      "text/plain": [
       "2000"
      ]
     },
     "execution_count": 18,
     "metadata": {},
     "output_type": "execute_result"
    }
   ],
   "source": [
    "len(test_data)"
   ]
  },
  {
   "cell_type": "code",
   "execution_count": 19,
   "metadata": {
    "id": "dSeE1mH0xPpW"
   },
   "outputs": [],
   "source": [
    "with open('cyber.train', 'r') as file:\n",
    "    for line in file:\n",
    "        label, text = line.strip().split(' ', 1)\n",
    "        labels.append(label)\n",
    "        texts.append(preprocess_text(text))"
   ]
  },
  {
   "cell_type": "code",
   "execution_count": 21,
   "metadata": {
    "id": "FKWL7bGnyOlr"
   },
   "outputs": [],
   "source": [
    "skf = StratifiedKFold(n_splits=10, shuffle=True, random_state=42)"
   ]
  },
  {
   "cell_type": "code",
   "execution_count": null,
   "metadata": {
    "colab": {
     "base_uri": "https://localhost:8080/"
    },
    "executionInfo": {
     "elapsed": 150492,
     "status": "ok",
     "timestamp": 1717465600479,
     "user": {
      "displayName": "Thiago Nacrur Maricondi",
      "userId": "03056865606650444241"
     },
     "user_tz": 180
    },
    "id": "P-DU0ZnWyb_2",
    "outputId": "5812dbd1-c5c7-46cc-b577-ddf71dc80914"
   },
   "outputs": [],
   "source": [
    "for i, (train_index, test_index) in enumerate(skf.split(texts, labels)):\n",
    "\n",
    "    train_file = f\"train_fold_{i}.txt\"\n",
    "    test_file = f\"test_fold_{i}.txt\"\n",
    "\n",
    "    train_texts = [texts[i] for i in train_index]\n",
    "    train_labels = [labels[i] for i in train_index]\n",
    "    test_texts = [texts[i] for i in test_index]\n",
    "    test_labels = [labels[i] for i in test_index]\n",
    "\n",
    "    with open(train_file, 'w', encoding=\"utf-8\") as train_f:\n",
    "        for label, text in zip(train_labels, train_texts):\n",
    "            train_f.write(f\"{label} {text}\\n\")\n",
    "\n",
    "    with open(test_file, 'w', encoding=\"utf-8\") as test_f:\n",
    "        for label, text in zip(test_labels, test_texts):\n",
    "            test_f.write(f\"{label} {text}\\n\")\n",
    "   \n",
    "    model = fasttext.train_supervised(input=train_file, epoch=20, lr=0.4, wordNgrams=4, minCount=2, ws=7)\n",
    "\n",
    "    result = model.test(test_file)\n",
    "    print(f\"Precision and recall in fold {i}: {result[1]} - {result[2]}\")\n",
    "\n",
    "    precisions.append(result[1])\n",
    "    recalls.append(result[2])\n",
    "\n",
    "    result2 = model.test_label(test_file)\n",
    "\n",
    "    for label, metrics in result2.items():\n",
    "        print(f'Label: {label} - Metrics: {metrics}')\n",
    "        p.append(metrics['precision'])\n",
    "        r.append(metrics['recall'])\n",
    "        precision_dict[label].append(metrics['precision'])\n",
    "        recall_dict[label].append(metrics['recall'])"
   ]
  },
  {
   "cell_type": "code",
   "execution_count": null,
   "metadata": {
    "colab": {
     "base_uri": "https://localhost:8080/"
    },
    "executionInfo": {
     "elapsed": 6,
     "status": "ok",
     "timestamp": 1717465602369,
     "user": {
      "displayName": "Thiago Nacrur Maricondi",
      "userId": "03056865606650444241"
     },
     "user_tz": 180
    },
    "id": "joMwFfmHRYKm",
    "outputId": "5c9f7bed-44f4-4bef-999a-d075e1397423"
   },
   "outputs": [],
   "source": [
    "avg_precision_per_label = {}\n",
    "avg_recall_per_label = {}\n",
    "\n",
    "for label, precisions in precision_dict.items():\n",
    "    avg_precision_per_label[label] = sum(precisions) / len(precisions)\n",
    "\n",
    "for label, recalls in recall_dict.items():\n",
    "    avg_recall_per_label[label] = sum(recalls) / len(recalls)\n",
    "\n",
    "for label, avg_precision in avg_precision_per_label.items():\n",
    "    print(f'Average Precision for {label}: {avg_precision}')\n",
    "\n",
    "for label, avg_recall in avg_recall_per_label.items():\n",
    "    print(f'Average Recall for {label}: {avg_recall}')"
   ]
  },
  {
   "cell_type": "code",
   "execution_count": null,
   "metadata": {
    "colab": {
     "base_uri": "https://localhost:8080/"
    },
    "executionInfo": {
     "elapsed": 4,
     "status": "ok",
     "timestamp": 1717465602369,
     "user": {
      "displayName": "Thiago Nacrur Maricondi",
      "userId": "03056865606650444241"
     },
     "user_tz": 180
    },
    "id": "UsBzrt1KEgaq",
    "outputId": "e41a77e3-a3e5-4c68-a527-121bb85aa295"
   },
   "outputs": [],
   "source": [
    "p"
   ]
  },
  {
   "cell_type": "code",
   "execution_count": null,
   "metadata": {
    "colab": {
     "base_uri": "https://localhost:8080/"
    },
    "executionInfo": {
     "elapsed": 4,
     "status": "ok",
     "timestamp": 1717465602370,
     "user": {
      "displayName": "Thiago Nacrur Maricondi",
      "userId": "03056865606650444241"
     },
     "user_tz": 180
    },
    "id": "YqU9qeNB5T6h",
    "outputId": "ee51225b-c04a-4b45-aa1d-1cf075c777cf"
   },
   "outputs": [],
   "source": [
    "mean_p = np.mean(p)\n",
    "print(f\"Average precision: {mean_p}\")\n",
    "\n",
    "mean_r = np.mean(r)\n",
    "print(f\"Average recall: {mean_r}\")"
   ]
  },
  {
   "cell_type": "code",
   "execution_count": null,
   "metadata": {
    "colab": {
     "base_uri": "https://localhost:8080/"
    },
    "executionInfo": {
     "elapsed": 3,
     "status": "ok",
     "timestamp": 1717465602370,
     "user": {
      "displayName": "Thiago Nacrur Maricondi",
      "userId": "03056865606650444241"
     },
     "user_tz": 180
    },
    "id": "fMGHQ7BrwhGq",
    "outputId": "e98ffce1-c014-49c4-ad2d-7ed2dc33d6a2"
   },
   "outputs": [],
   "source": [
    "mean_precision = np.mean(precisions)\n",
    "print(f\"Average precision: {mean_precision}\")\n",
    "mean_recall = np.mean(recalls)\n",
    "print(f\"Average recall: {mean_recall}\")"
   ]
  },
  {
   "cell_type": "code",
   "execution_count": 29,
   "metadata": {
    "id": "7ydTvsqJpNy0"
   },
   "outputs": [],
   "source": [
    "with open('cyber.test', 'r') as file:\n",
    "    for line in file:\n",
    "        label_test, text_test = line.strip().split(' ', 1)\n",
    "        real_labels.append(label_test)\n",
    "        prediction = model.predict(preprocess_text(text_test))\n",
    "        predicted_labels.append(prediction[0][0])"
   ]
  },
  {
   "cell_type": "code",
   "execution_count": null,
   "metadata": {
    "colab": {
     "base_uri": "https://localhost:8080/"
    },
    "executionInfo": {
     "elapsed": 13,
     "status": "ok",
     "timestamp": 1717465602819,
     "user": {
      "displayName": "Thiago Nacrur Maricondi",
      "userId": "03056865606650444241"
     },
     "user_tz": 180
    },
    "id": "hxCUz7hhDMhR",
    "outputId": "433431f2-bde8-4b70-b850-08a1aceab2c9"
   },
   "outputs": [],
   "source": [
    "print('Real labels: ' + str(len(real_labels)))\n",
    "print('Predicted labels: ' + str(len(predicted_labels)))"
   ]
  },
  {
   "cell_type": "code",
   "execution_count": null,
   "metadata": {
    "colab": {
     "base_uri": "https://localhost:8080/"
    },
    "executionInfo": {
     "elapsed": 9,
     "status": "ok",
     "timestamp": 1717465602819,
     "user": {
      "displayName": "Thiago Nacrur Maricondi",
      "userId": "03056865606650444241"
     },
     "user_tz": 180
    },
    "id": "rkPaS0YqP0LC",
    "outputId": "1bb58845-9511-49fd-b9fb-75142ce66316"
   },
   "outputs": [],
   "source": [
    "accuracy = accuracy_score(real_labels, predicted_labels)\n",
    "precision = precision_score(real_labels, predicted_labels, average='weighted')\n",
    "recall = recall_score(real_labels, predicted_labels, average='weighted')\n",
    "f1 = f1_score(real_labels, predicted_labels, average='weighted')\n",
    "\n",
    "print(f\"Accuracy: {accuracy}\")\n",
    "print(f\"Precision: {precision}\")\n",
    "print(f\"Recall: {recall}\")\n",
    "print(f\"F1-Score: {f1}\")"
   ]
  },
  {
   "cell_type": "code",
   "execution_count": null,
   "metadata": {
    "colab": {
     "base_uri": "https://localhost:8080/"
    },
    "executionInfo": {
     "elapsed": 7,
     "status": "ok",
     "timestamp": 1717465602819,
     "user": {
      "displayName": "Thiago Nacrur Maricondi",
      "userId": "03056865606650444241"
     },
     "user_tz": 180
    },
    "id": "5wzSjT4lI6zO",
    "outputId": "5b54d585-5012-4b45-a284-369373341882"
   },
   "outputs": [],
   "source": [
    "confusion_matrix(real_labels, predicted_labels)"
   ]
  },
  {
   "cell_type": "code",
   "execution_count": 33,
   "metadata": {
    "id": "ZsjH_TCaAFxx"
   },
   "outputs": [],
   "source": [
    "tp, fp, fn, tn = confusion_matrix(real_labels, predicted_labels).ravel()"
   ]
  },
  {
   "cell_type": "code",
   "execution_count": null,
   "metadata": {
    "colab": {
     "base_uri": "https://localhost:8080/"
    },
    "executionInfo": {
     "elapsed": 6,
     "status": "ok",
     "timestamp": 1717465602819,
     "user": {
      "displayName": "Thiago Nacrur Maricondi",
      "userId": "03056865606650444241"
     },
     "user_tz": 180
    },
    "id": "a2YVU5dhI53v",
    "outputId": "8b079efa-e124-4f6a-e79b-610a079dee89"
   },
   "outputs": [],
   "source": [
    "precision = tp / (tp + fp)\n",
    "print(precision)"
   ]
  },
  {
   "cell_type": "code",
   "execution_count": null,
   "metadata": {
    "colab": {
     "base_uri": "https://localhost:8080/"
    },
    "executionInfo": {
     "elapsed": 5,
     "status": "ok",
     "timestamp": 1717465602819,
     "user": {
      "displayName": "Thiago Nacrur Maricondi",
      "userId": "03056865606650444241"
     },
     "user_tz": 180
    },
    "id": "BusENDnPLsjS",
    "outputId": "3bf72c05-ef04-4fd9-e1ad-a44ac3f75e11"
   },
   "outputs": [],
   "source": [
    "recall = tp / (tp + fn)\n",
    "print(recall)"
   ]
  },
  {
   "cell_type": "code",
   "execution_count": null,
   "metadata": {
    "colab": {
     "base_uri": "https://localhost:8080/"
    },
    "executionInfo": {
     "elapsed": 4,
     "status": "ok",
     "timestamp": 1717465602819,
     "user": {
      "displayName": "Thiago Nacrur Maricondi",
      "userId": "03056865606650444241"
     },
     "user_tz": 180
    },
    "id": "SodJcWzaLt_u",
    "outputId": "db01a141-8f9b-4732-c604-03ecbf5c9f8d"
   },
   "outputs": [],
   "source": [
    "accuracy = (tp + tn) / (tp + tn + fp + fn)\n",
    "print(accuracy)"
   ]
  },
  {
   "cell_type": "code",
   "execution_count": null,
   "metadata": {
    "colab": {
     "base_uri": "https://localhost:8080/"
    },
    "executionInfo": {
     "elapsed": 4,
     "status": "ok",
     "timestamp": 1717465602819,
     "user": {
      "displayName": "Thiago Nacrur Maricondi",
      "userId": "03056865606650444241"
     },
     "user_tz": 180
    },
    "id": "5u5Mk187L2Ym",
    "outputId": "125d2f3e-c74d-4bcf-e749-bf244de35fff"
   },
   "outputs": [],
   "source": [
    "f1_score = 2 * (precision * recall) / (precision + recall)\n",
    "print(f1_score)"
   ]
  },
  {
   "cell_type": "code",
   "execution_count": 38,
   "metadata": {
    "id": "qBYqYjMMHbbH"
   },
   "outputs": [],
   "source": [
    "labels = []\n",
    "texts = []\n",
    "precisions = []\n",
    "recalls = []\n",
    "predicted_labels = []\n",
    "real_labels = []\n",
    "p = []\n",
    "r = []"
   ]
  },
  {
   "cell_type": "code",
   "execution_count": null,
   "metadata": {},
   "outputs": [],
   "source": []
  }
 ],
 "metadata": {
  "colab": {
   "authorship_tag": "ABX9TyPxq32olfr5LxR/SJMJ2lDe",
   "mount_file_id": "18-HwPCMV4qz4w1QPMjtSLQk8M-AN4F4e",
   "provenance": []
  },
  "kernelspec": {
   "display_name": "Python 3 (ipykernel)",
   "language": "python",
   "name": "python3"
  },
  "language_info": {
   "codemirror_mode": {
    "name": "ipython",
    "version": 3
   },
   "file_extension": ".py",
   "mimetype": "text/x-python",
   "name": "python",
   "nbconvert_exporter": "python",
   "pygments_lexer": "ipython3",
   "version": "3.11.7"
  }
 },
 "nbformat": 4,
 "nbformat_minor": 4
}
